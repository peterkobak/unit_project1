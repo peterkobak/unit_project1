{
 "cells": [
  {
   "cell_type": "code",
   "execution_count": 19,
   "metadata": {},
   "outputs": [
    {
     "name": "stdout",
     "output_type": "stream",
     "text": [
      "There are 2470 palindromes and 906609 is the largest.\n"
     ]
    }
   ],
   "source": [
    "## A function that checks if a number is a palindrome. If 'number' is a palindrome, the function returns True\n",
    "\n",
    "def check_palindrome(number):\n",
    "    string_number = str(number)\n",
    "    list_number = []\n",
    "    for digit in string_number:\n",
    "        list_number.append(digit)\n",
    "    reversed_list_number = list(reversed(list_number))\n",
    "    if reversed_list_number == list_number:\n",
    "        return True\n",
    "\n",
    "## Creating a list to store possible answers\n",
    "all_palindromes= []\n",
    "\n",
    "## Loops through all possible 3-digit products. Starts with 999 x 999, then repeats\n",
    "## subtracting 1 from the second product, until the second product is less than 100.\n",
    "## It then subtracts 1 from the first product (i.e., 998 x 999) and tries again.\n",
    "## It continues to subtract 1 from the first product until all combinations have been tried.\n",
    "\n",
    "## During the process, if it finds that one of the products is a palindrome, that product is appended\n",
    "## to the list 'all_palindromes'\n",
    "\n",
    "x = 999\n",
    "y = 999\n",
    "while x >= 100:\n",
    "    while y >= 100:\n",
    "        product = x * y\n",
    "        if check_palindrome(product) == True:\n",
    "            all_palindromes.append(product)\n",
    "            y -= 1\n",
    "        else:\n",
    "            y -= 1\n",
    "    x -= 1\n",
    "    y = 999\n",
    "\n",
    "## Prints the total number of palindromes found and also identifies which palindrome has the largest value.\n",
    "\n",
    "print('There are',len(all_palindromes),'palindromes and',(max(all_palindromes)),'is the largest.')"
   ]
  },
  {
   "cell_type": "code",
   "execution_count": null,
   "metadata": {},
   "outputs": [],
   "source": []
  },
  {
   "cell_type": "code",
   "execution_count": null,
   "metadata": {
    "collapsed": true
   },
   "outputs": [],
   "source": []
  }
 ],
 "metadata": {
  "kernelspec": {
   "display_name": "Python 3",
   "language": "python",
   "name": "python3"
  },
  "language_info": {
   "codemirror_mode": {
    "name": "ipython",
    "version": 3
   },
   "file_extension": ".py",
   "mimetype": "text/x-python",
   "name": "python",
   "nbconvert_exporter": "python",
   "pygments_lexer": "ipython3",
   "version": "3.6.3"
  }
 },
 "nbformat": 4,
 "nbformat_minor": 2
}
