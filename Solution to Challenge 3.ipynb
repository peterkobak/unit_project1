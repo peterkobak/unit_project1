{
 "cells": [
  {
   "cell_type": "code",
   "execution_count": 8,
   "metadata": {},
   "outputs": [
    {
     "name": "stdout",
     "output_type": "stream",
     "text": [
      "233168\n"
     ]
    }
   ],
   "source": [
    "## Creates a list of all numbers from 1 to 1000\n",
    "list_1000 = list(range(1,1000))\n",
    "to_sum = []\n",
    "\n",
    "## Runs through list and if the number has no remainder when divided by 3 or 5, the number is added to the list to_sum\n",
    "for num in list_1000:\n",
    "    if num % 5 == 0 or num % 3 == 0:\n",
    "        to_sum.append(num)\n",
    "\n",
    "## Sums and prints the list to_sum\n",
    "print(sum(to_sum))\n",
    "        "
   ]
  },
  {
   "cell_type": "code",
   "execution_count": null,
   "metadata": {
    "collapsed": true
   },
   "outputs": [],
   "source": []
  }
 ],
 "metadata": {
  "kernelspec": {
   "display_name": "Python 3",
   "language": "python",
   "name": "python3"
  },
  "language_info": {
   "codemirror_mode": {
    "name": "ipython",
    "version": 3
   },
   "file_extension": ".py",
   "mimetype": "text/x-python",
   "name": "python",
   "nbconvert_exporter": "python",
   "pygments_lexer": "ipython3",
   "version": "3.6.3"
  }
 },
 "nbformat": 4,
 "nbformat_minor": 2
}
