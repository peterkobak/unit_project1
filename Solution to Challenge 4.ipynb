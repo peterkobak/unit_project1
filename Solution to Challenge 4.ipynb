{
 "cells": [
  {
   "cell_type": "code",
   "execution_count": null,
   "metadata": {},
   "outputs": [],
   "source": []
  },
  {
   "cell_type": "code",
   "execution_count": 11,
   "metadata": {},
   "outputs": [
    {
     "name": "stdout",
     "output_type": "stream",
     "text": [
      "a2b1c5a3\n"
     ]
    }
   ],
   "source": [
    "## Defines a function that performs run-length encoding on argument x.\n",
    "\n",
    "def run_length_encoding(x):\n",
    "    final_string = x[0]\n",
    "    store_letter = x[0]\n",
    "    store_count = 1\n",
    "    loop_count = 1\n",
    "    \n",
    "## For loop that cycles through the argument x, starting at the second letter\n",
    "    \n",
    "    for letter in x[1:]:\n",
    "        loop_count += 1\n",
    "## If the next letter is the same as the last, a counter is increased.\n",
    "        if letter == store_letter:\n",
    "            store_count += 1\n",
    "## Otherwise, the counter is added to the final output with the new letter and the counter resets.\n",
    "        else:\n",
    "            final_string = final_string + str(store_count) + letter\n",
    "            store_letter = letter\n",
    "            store_count = 1\n",
    "            \n",
    "## If the loop reaches the last letter of the argument, it adds the final letter's count to the output string \"final_string\".\n",
    "        if loop_count == len(x):\n",
    "            final_string = final_string + str(store_count)  \n",
    "            \n",
    "## Final output is printed.\n",
    "    print(final_string)\n",
    "            \n",
    "run_length_encoding('aabcccccaaa')\n"
   ]
  },
  {
   "cell_type": "code",
   "execution_count": null,
   "metadata": {},
   "outputs": [],
   "source": []
  },
  {
   "cell_type": "code",
   "execution_count": null,
   "metadata": {},
   "outputs": [],
   "source": []
  },
  {
   "cell_type": "code",
   "execution_count": null,
   "metadata": {},
   "outputs": [],
   "source": []
  },
  {
   "cell_type": "code",
   "execution_count": null,
   "metadata": {
    "collapsed": true
   },
   "outputs": [],
   "source": []
  }
 ],
 "metadata": {
  "kernelspec": {
   "display_name": "Python 3",
   "language": "python",
   "name": "python3"
  },
  "language_info": {
   "codemirror_mode": {
    "name": "ipython",
    "version": 3
   },
   "file_extension": ".py",
   "mimetype": "text/x-python",
   "name": "python",
   "nbconvert_exporter": "python",
   "pygments_lexer": "ipython3",
   "version": "3.6.3"
  }
 },
 "nbformat": 4,
 "nbformat_minor": 2
}
