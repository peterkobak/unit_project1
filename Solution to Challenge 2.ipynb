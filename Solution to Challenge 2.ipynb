{
 "cells": [
  {
   "cell_type": "code",
   "execution_count": 3,
   "metadata": {},
   "outputs": [
    {
     "name": "stdout",
     "output_type": "stream",
     "text": [
      "The sum of the primes is 277050\n"
     ]
    }
   ],
   "source": [
    "## Defines a function that will check to see if a number is prime. It does so by taking an argument 'num' and \n",
    "## creating a range of numbers from 2 to (num - 1). It then runs through the list, calculating num % each number\n",
    "## in the list. If the equation ever evaluates to 0, 1 is added to the variable prime_count. After running through \n",
    "## the list, if prime_count == 0 then that means that num is a prime, the function returns True.\n",
    "\n",
    "def check_prime(num):\n",
    "    prime_count = 0\n",
    "    list_of_num = list(range(2,num))\n",
    "    for i in list_of_num:\n",
    "        if num % i == 0:\n",
    "            prime_count += 1\n",
    "    if prime_count == 0:\n",
    "        return True\n",
    "\n",
    "## Creates a list from 2 to 1999 and saves it to up_to_2000 and creates an empty list to store primes that we\n",
    "## will be finding later.\n",
    "\n",
    "up_to_2000 = list(range(2,2000))\n",
    "prime_list = []\n",
    "\n",
    "## Loops through the list of numbers from 2 to 1999 and runs check_prime to see if each number is prime. If\n",
    "## it is a prime number, that prime number is added to prime_list.\n",
    "\n",
    "for number in up_to_2000:\n",
    "    if check_prime(number) ==  True:\n",
    "        prime_list.append(number)\n",
    "        \n",
    "## Sums the prime_list list and prints the result.\n",
    "\n",
    "print('The sum of the primes is',sum(prime_list))\n"
   ]
  },
  {
   "cell_type": "code",
   "execution_count": null,
   "metadata": {
    "collapsed": true
   },
   "outputs": [],
   "source": []
  }
 ],
 "metadata": {
  "kernelspec": {
   "display_name": "Python 3",
   "language": "python",
   "name": "python3"
  }
 },
 "nbformat": 4,
 "nbformat_minor": 2
}
